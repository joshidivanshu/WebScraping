{
  "nbformat": 4,
  "nbformat_minor": 0,
  "metadata": {
    "colab": {
      "name": "Untitled12.ipynb",
      "provenance": []
    },
    "kernelspec": {
      "name": "python3",
      "display_name": "Python 3"
    }
  },
  "cells": [
    {
      "cell_type": "code",
      "metadata": {
        "id": "EGlRqKz4zOSv",
        "colab_type": "code",
        "colab": {
          "base_uri": "https://localhost:8080/",
          "height": 70
        },
        "outputId": "1bf38a31-eebd-4826-a803-f81dd50eff79"
      },
      "source": [
        "import pandas as pd\n",
        "import numpy as np\n",
        "import matplotlib.pyplot as plt\n",
        "import seaborn as sns\n",
        "%matplotlib inline\n",
        "import re\n",
        "import time\n",
        "from datetime import datetime\n",
        "import matplotlib.dates as mdates\n",
        "import matplotlib.ticker as ticker\n",
        "from urllib.request import urlopen\n",
        "from bs4 import BeautifulSoup"
      ],
      "execution_count": 1,
      "outputs": [
        {
          "output_type": "stream",
          "text": [
            "/usr/local/lib/python3.6/dist-packages/statsmodels/tools/_testing.py:19: FutureWarning: pandas.util.testing is deprecated. Use the functions in the public API at pandas.testing instead.\n",
            "  import pandas.util.testing as tm\n"
          ],
          "name": "stderr"
        }
      ]
    },
    {
      "cell_type": "code",
      "metadata": {
        "id": "J7Va3KYYzux_",
        "colab_type": "code",
        "colab": {}
      },
      "source": [
        " import pandas.util.testing as tm"
      ],
      "execution_count": 0,
      "outputs": []
    },
    {
      "cell_type": "code",
      "metadata": {
        "id": "-dACPHqiz4l_",
        "colab_type": "code",
        "colab": {}
      },
      "source": [
        "url = \"https://www.datacamp.com/community/tutorials\"\n",
        "html = urlopen(url)\n",
        "soup = BeautifulSoup(html,'html')\n",
        "pages = [i.text for i in soup.find_all('a') if 'community/tutorials?page=' in str(i)]\n"
      ],
      "execution_count": 0,
      "outputs": []
    },
    {
      "cell_type": "code",
      "metadata": {
        "id": "TYl-Oo6j0lf0",
        "colab_type": "code",
        "colab": {
          "base_uri": "https://localhost:8080/",
          "height": 34
        },
        "outputId": "c1c8707d-e72e-4a0d-af7b-892ae53e0353"
      },
      "source": [
        "print(pages[-1])"
      ],
      "execution_count": 17,
      "outputs": [
        {
          "output_type": "stream",
          "text": [
            "26\n"
          ],
          "name": "stdout"
        }
      ]
    },
    {
      "cell_type": "code",
      "metadata": {
        "id": "hOFfZh-117YO",
        "colab_type": "code",
        "colab": {}
      },
      "source": [
        "description=[]\n",
        "upvote=[]\n",
        "author=[]\n",
        "publishdate=[]\n",
        "title = []"
      ],
      "execution_count": 0,
      "outputs": []
    },
    {
      "cell_type": "code",
      "metadata": {
        "id": "3PiKQDNw4XfP",
        "colab_type": "code",
        "colab": {}
      },
      "source": [
        "lastpage = pages[-1]"
      ],
      "execution_count": 0,
      "outputs": []
    },
    {
      "cell_type": "code",
      "metadata": {
        "id": "ett3_Eum2npB",
        "colab_type": "code",
        "colab": {
          "base_uri": "https://localhost:8080/",
          "height": 34
        },
        "outputId": "6e6278b6-416b-4e10-e84f-cbe056539493"
      },
      "source": [
        "for cp in np.arange(1,int(lastpage)+1):\n",
        "    url = \"https://www.datacamp.com/community/tutorials?page=\" + str(cp)\n",
        "    html = urlopen(url)\n",
        "    soup = BeautifulSoup(html, 'html')\n",
        "    description.append([i.text for i in soup.find_all(class_='jsx-379356511 blocText description')])\n",
        "    upvote.append([i.text for i in soup.find_all(class_='jsx-4192737526 voted')])\n",
        "    author.append([i.text for i in soup.find_all(class_='jsx-566588255 name')])\n",
        "    publishdate.append([i.text for i in soup.find_all(class_='jsx-566588255 date')])\n",
        "    title.append([i.text for i in soup.find_all(class_='jsx-379356511 blue')])\n",
        "    # to be easy on the website\n",
        "    time.sleep(3)\n",
        "print (\"Done!\")"
      ],
      "execution_count": 25,
      "outputs": [
        {
          "output_type": "stream",
          "text": [
            "Done!\n"
          ],
          "name": "stdout"
        }
      ]
    },
    {
      "cell_type": "markdown",
      "metadata": {
        "id": "xqIkEgbw6dE_",
        "colab_type": "text"
      },
      "source": [
        "**Flatenning the list of lists**"
      ]
    },
    {
      "cell_type": "code",
      "metadata": {
        "id": "7JTjPUkT3-s9",
        "colab_type": "code",
        "colab": {}
      },
      "source": [
        "descriptionflat = [y for x in description for y in x]\n",
        "upvoteflat = [y for x in upvote for y in x]\n",
        "authorflat = [y for x in author for y in x]\n",
        "publishdateflat = [y for x in publishdate for y in x]\n",
        "titleflat = [y for x in title for y in x]\n",
        "publishdateformatted = [datetime.strptime(re.sub('rd, ', ', ', re.sub('st, ', ', ', re.sub('nd, ', ', ', re.sub('th, ',', ',a)))), \"%B %d, %Y\") for a in publishdateflat]"
      ],
      "execution_count": 0,
      "outputs": []
    },
    {
      "cell_type": "markdown",
      "metadata": {
        "id": "kvuGtzWh6Sun",
        "colab_type": "text"
      },
      "source": [
        "**Saving  it inside a DataFrame**"
      ]
    },
    {
      "cell_type": "code",
      "metadata": {
        "id": "arYo1OmR6Aif",
        "colab_type": "code",
        "colab": {}
      },
      "source": [
        "cdata = {\"author\":authorflat,\"publishdate\":publishdateformatted,\"title\":titleflat,\"description\":descriptionflat,\"upvote\":upvoteflat}\n",
        "df = pd.DataFrame(data = cdata)\n",
        "df.to_csv(\"c:\\\\users\\\\divanshu\\\\documents\\\\datacamp130818.csv\", header=True, index=False)"
      ],
      "execution_count": 0,
      "outputs": []
    }
  ]
}